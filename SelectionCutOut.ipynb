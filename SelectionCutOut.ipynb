{
 "cells": [
  {
   "cell_type": "code",
   "execution_count": 1,
   "metadata": {},
   "outputs": [],
   "source": [
    "import SelectionCutOut\n",
    "from SelectionCutOut import fitsImages"
   ]
  },
  {
   "cell_type": "code",
   "execution_count": 2,
   "metadata": {},
   "outputs": [],
   "source": [
    "Solar=fitsImages('SampleFitsImages')\n",
    "Solar.animate() #animation is spearate window of all images in the folder\n"
   ]
  },
  {
   "cell_type": "code",
   "execution_count": 3,
   "metadata": {},
   "outputs": [
    {
     "data": {
      "text/plain": [
       "['SampleFitsImages/NewSubImages/subimg0.fits',\n",
       " 'SampleFitsImages/NewSubImages/subimg1.fits',\n",
       " 'SampleFitsImages/NewSubImages/subimg2.fits',\n",
       " 'SampleFitsImages/NewSubImages/subimg3.fits']"
      ]
     },
     "execution_count": 3,
     "metadata": {},
     "output_type": "execute_result"
    }
   ],
   "source": [
    "Solar.SelectCutOut() # saves new images to NewSubImages folder"
   ]
  },
  {
   "cell_type": "code",
   "execution_count": null,
   "metadata": {},
   "outputs": [],
   "source": [
    "Solar.SelectCutOut(CutoutSize=300) #it is possible to change the cut out size"
   ]
  }
 ],
 "metadata": {
  "kernelspec": {
   "display_name": "PyTorchEnv",
   "language": "python",
   "name": "python3"
  },
  "language_info": {
   "codemirror_mode": {
    "name": "ipython",
    "version": 3
   },
   "file_extension": ".py",
   "mimetype": "text/x-python",
   "name": "python",
   "nbconvert_exporter": "python",
   "pygments_lexer": "ipython3",
   "version": "3.11.7"
  }
 },
 "nbformat": 4,
 "nbformat_minor": 2
}
